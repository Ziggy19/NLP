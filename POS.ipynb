{
 "cells": [
  {
   "cell_type": "markdown",
   "id": "3dcc03d4",
   "metadata": {},
   "source": [
    "# POS(part of speech)"
   ]
  },
  {
   "cell_type": "code",
   "execution_count": 22,
   "id": "e4049798",
   "metadata": {},
   "outputs": [
    {
     "data": {
      "text/plain": [
       "['hello', 'ziggy', 'what', 'do', 'you', 'want', 'to', 'do', '?']"
      ]
     },
     "execution_count": 22,
     "metadata": {},
     "output_type": "execute_result"
    }
   ],
   "source": [
    "import nltk \n",
    "s='hello ziggy what do you want to do?'\n",
    "word_tok=nltk.word_tokenize(s)\n",
    "word_tok"
   ]
  },
  {
   "cell_type": "code",
   "execution_count": 28,
   "id": "ab7f89ca",
   "metadata": {},
   "outputs": [
    {
     "name": "stdout",
     "output_type": "stream",
     "text": [
      "[('hello', 'NN')]\n",
      "[('ziggy', 'NN')]\n",
      "[('what', 'WP')]\n",
      "[('do', 'VB')]\n",
      "[('you', 'PRP')]\n",
      "[('want', 'NN')]\n",
      "[('to', 'TO')]\n",
      "[('do', 'VB')]\n",
      "[('?', '.')]\n"
     ]
    }
   ],
   "source": [
    "for i in word_tok:\n",
    "    print(nltk.pos_tag([i]))\n",
    "    "
   ]
  },
  {
   "cell_type": "code",
   "execution_count": null,
   "id": "f3075317",
   "metadata": {},
   "outputs": [],
   "source": [
    " "
   ]
  }
 ],
 "metadata": {
  "kernelspec": {
   "display_name": "Python 3 (ipykernel)",
   "language": "python",
   "name": "python3"
  },
  "language_info": {
   "codemirror_mode": {
    "name": "ipython",
    "version": 3
   },
   "file_extension": ".py",
   "mimetype": "text/x-python",
   "name": "python",
   "nbconvert_exporter": "python",
   "pygments_lexer": "ipython3",
   "version": "3.9.7"
  }
 },
 "nbformat": 4,
 "nbformat_minor": 5
}
