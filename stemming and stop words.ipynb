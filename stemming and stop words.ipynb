{
 "cells": [
  {
   "cell_type": "markdown",
   "id": "2d1f357a",
   "metadata": {},
   "source": [
    "# Stemming &Stop words"
   ]
  },
  {
   "cell_type": "code",
   "execution_count": 32,
   "id": "13e806ef",
   "metadata": {},
   "outputs": [],
   "source": [
    "import nltk\n",
    "paragraph=  \"\"\"Speech on APJ Abdul Kalam: Dr. APJ Abdul Kalam is not a new name.\n",
    "            He served India as the 11th president. He was born on 15 October 1931 in Rameswaram, Tamil Nadu.\n",
    "            Because of his works in the field of science and especially missile and rockets,\n",
    "            he is also called the Missile Man of India. He was a famous scientist. \n",
    "            He worked with organizations like DRDO (Defense Research and Development Organization)\n",
    "            and ISRO (Indian Space Research Organization).\n",
    "            He was a real gem of India. He proved that with determination and hard work anything can be achieved.\n",
    "            He is one of the many leaders in India who has plenty of admirers. \n",
    "            He served the nation for only one term and left us for always on 27 July 2015 due to cardiac arrest.\n",
    "            \"\"\"\n",
    "from nltk.util import bigrams, trigrams, ngrams\n",
    "word= nltk.word_tokenize(paragraph)\n",
    "sentence=nltk.sent_tokenize(paragraph)"
   ]
  },
  {
   "cell_type": "code",
   "execution_count": 54,
   "id": "729b7cbb",
   "metadata": {},
   "outputs": [],
   "source": [
    "from nltk.corpus import stopwords\n",
    "from nltk.stem import PorterStemmer\n",
    "stemmer= PorterStemmer()"
   ]
  },
  {
   "cell_type": "code",
   "execution_count": 65,
   "id": "4c6ab0ee",
   "metadata": {},
   "outputs": [],
   "source": [
    "for i in range(len(sentence)):\n",
    "    words=nltk.word_tokenize(paragraph[i])\n",
    "    words=[stemmer.stem(word) for word in words if word not in set(stopwords.words('english'))]\n",
    "    sentence[i]=' '.join(words)\n",
    "    "
   ]
  },
  {
   "cell_type": "code",
   "execution_count": 66,
   "id": "2b25f30c",
   "metadata": {},
   "outputs": [],
   "source": [
    "#output\n",
    "# speech apj abdul kalam : dr. apj abdul kalam new name .\n",
    "# he serv india 11th presid .\n",
    "# he born 15 octob 1931 rameswaram , tamil nadu .\n",
    "# becaus work field scienc especi missil rocket , also call missil man india .\n",
    "# he famou scientist .\n",
    "# he work organ like drdo ( defens research develop organ ) isro ( indian space research organ ) .\n",
    "# he real gem india .\n",
    "# he prove determin hard work anyth achiev .\n",
    "# he one mani leader india plenti admir .\n",
    "# he serv nation one term left us alway 27 juli 2015 due cardiac arrest ."
   ]
  },
  {
   "cell_type": "code",
   "execution_count": null,
   "id": "c9fbce91",
   "metadata": {},
   "outputs": [],
   "source": []
  }
 ],
 "metadata": {
  "kernelspec": {
   "display_name": "Python 3 (ipykernel)",
   "language": "python",
   "name": "python3"
  },
  "language_info": {
   "codemirror_mode": {
    "name": "ipython",
    "version": 3
   },
   "file_extension": ".py",
   "mimetype": "text/x-python",
   "name": "python",
   "nbconvert_exporter": "python",
   "pygments_lexer": "ipython3",
   "version": "3.9.7"
  }
 },
 "nbformat": 4,
 "nbformat_minor": 5
}
