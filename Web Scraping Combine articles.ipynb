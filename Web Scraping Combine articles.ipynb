{
 "cells": [
  {
   "cell_type": "code",
   "execution_count": 2,
   "id": "35b86526",
   "metadata": {},
   "outputs": [],
   "source": [
    "import os\n",
    "import pandas as pd\n",
    "import numpy as np\n",
    "import bs4 as bs\n",
    "import urllib.request  #urllib.request is a Python module for fetching URLs (Uniform Resource Locators). \n",
    "#It offers a very simple interface, in the form of the urlopen function.\n",
    "import re\n",
    "import spacy\n",
    "import re, string, unicodedata\n",
    "import nltk\n",
    "from nltk.corpus import stopwords\n",
    "from nltk.stem import WordNetLemmatizer\n",
    "lem=WordNetLemmatizer()"
   ]
  },
  {
   "cell_type": "code",
   "execution_count": 4,
   "id": "4c096a64",
   "metadata": {},
   "outputs": [],
   "source": [
    "os.chdir(r\"Z:\\Study\\ziggy std\\Mr. Prakash Senapathi\\PROJECT By me\\NLP project\\Web Scraping Project\\xml_single articles\")\n"
   ]
  },
  {
   "cell_type": "code",
   "execution_count": 5,
   "id": "b64e1782",
   "metadata": {},
   "outputs": [],
   "source": [
    "#import Python's built-in glob module to use the glob() function. Python glob.\n",
    "# glob() method returns a list of files or folders that matches the path specified in the pathname argument. \n",
    "# This function takes two arguments, namely pathname, and recursive flag.\n"
   ]
  },
  {
   "cell_type": "code",
   "execution_count": 7,
   "id": "f11a506b",
   "metadata": {},
   "outputs": [],
   "source": [
    "from glob import glob\n",
    "\n",
    "path=r'Z:\\Study\\ziggy std\\Mr. Prakash Senapathi\\PROJECT By me\\NLP project\\Web Scraping Project\\xml_single articles'\n",
    "all_files = glob(os.path.join(path, \"*.xml\"))"
   ]
  },
  {
   "cell_type": "code",
   "execution_count": 8,
   "id": "5c515fb4",
   "metadata": {},
   "outputs": [
    {
     "data": {
      "text/plain": [
       "'<?xml version=\\'1.0\\' encoding=\\'utf8\\'?>\\n<article>\\n    <front>\\n        <journal-meta>\\n            <journal-id journal-id-type=\"publication\">0901c7918047d0e2</journal-id>\\n            <journal-id journal-id-type=\"publisher\" />\\n            <journal-title>Orphan Drug Approvals</journal-title>\\n            <abbrev-journal-title abbrev-type=\"publication\" />\\n            <issn />\\n            <publisher>\\n                <publisher-name>\\n                    <p>WebMD, LLC</p>\\n                </publisher-name>\\n            </publisher>\\n            <notes notes-type=\"support-page\">\\n                <p>index</p>\\n            </notes>\\n        </journal-meta>\\n        <article-meta>\\n            <article-id>0901c79180555528</article-id>\\n            <article-categories>\\n                <subj-group>\\n                    <subject>News Alert</subject>\\n                </subj-group>\\n                <series-title />\\n            </article-categories>\\n            <title-group>\\n                <article-above-title />\\n                <article-title>FDA Grants Orphan Drug Status to Gevokizumab</article-title>\\n                <subtitle />\\n                <alt-title>The FDA has granted orphan drug designation to gevokizumab for the treatment of noninfectious intermediate uveitis, posterior uveitis, or panuveitis, or chronic noninfectious anterior uveitis.</alt-title>\\n            </title-group>\\n            <contrib-group>\\n                <contrib contrib-type=\"Journalist\">\\n                    <name>\\n                        <surname>Troy Brown</surname>\\n                    </name>\\n                    <role>Journalist</role>\\n                    <bio>\\n                        <p>Troy Brown is a freelance writer for Medscape.</p>\\n                    </bio>\\n                    <author-comment>\\n                        <title>Disclosure</title>\\n                        <p>Troy Brown has disclosed no relevant financial relationships.</p>\\n                    </author-comment>\\n                    <author-comment>\\n                        <title>Title</title>\\n                        <p />\\n                    </author-comment>\\n                </contrib>\\n            </contrib-group>\\n            <pub-date>\\n                <day>29</day>\\n                <month>08</month>\\n                <year>2012</year>\\n            </pub-date>\\n            <volume />\\n            <issue />\\n            <fpage />\\n            <lpage />\\n            <copyright-year />\\n            <copyright-statement />\\n            <kwd-group>\\n                <kwd>choroiditis,cyclitis,intermediate uveitis,orphan drugs,pars planitis,posterior uveitis</kwd>\\n            </kwd-group>\\n            <history>\\n                <date date-type=\"posting\">\\n                    <day>29</day>\\n                    <month>08</month>\\n                    <year>2012</year>\\n                </date>\\n            </history>\\n        </article-meta>\\n    </front>\\n    <body>\\n        <sec sec-type=\"page\">\\n            <title />\\n            <sec sec-type=\"Default\">\\n                <title />\\n                <sec sec-type=\"section\">\\n                    <title />\\n                    <p>August 29, 2012 — The US Food and Drug Administration (FDA) has granted orphan drug status to gevokizumab (<italic>Xoma 052</italic>, Xoma Corp), a monoclonal antibody that binds strongly to interleukin 1β (IL-1β), for the treatment of noninfectious intermediate uveitis, posterior uveitis, or panuveitis, or chronic noninfectious anterior uveitis.</p>\\n<p>The Orphan Drug Act of 1983 was passed to encourage companies to develop treatments for rare diseases (diseases that affect fewer than 200,000 people in the United States). Because the market is so small, such treatments can be unprofitable to develop. Companies that develop orphan drugs receive a 50% tax credit for the cost of conducting human clinical trials, 7-year marketing exclusivity, and other incentives.</p>\\n<p>Behçet\\'s disease is a rare multisystem disease that causes blood vessel inflammation throughout the body. Common symptoms are mouth sores, genital sores, and a type of panuveitis known as Behçet\\'s uveitis, an inflammation of the uvea, retina, and vitreous humor that can lead to retinal detachment, vitreous hemorrhage, glaucoma, and blindness.</p>\\n<p>\"A genetic association has been shown between Behçet\\'s disease and the IL-1 gene cluster, and IL-1β has been implicated as a mediator in Behçet\\'s disease pathogenesis,\" Christine Kay, MD, the director of Retinal Clinical Research and the director of the Electrophysiology Service in the Vitreoretinal Division of the Department of Ophthalmology at the University of Florida in Gainesville, told <italic>Medscape Medical News</italic>. Dr. Kay is a clinical correspondent for the American Academy of Ophthalmology.</p>\\n<p>\"Gevokizumab regulates the activation of IL-1 receptors and can be intravenously or subcutaneously administered,\" Dr. Kay added.</p>\\n<p>Patients with Behçet\\'s uveitis have few treatment options. \"There are currently only 2 drugs FDA-approved for the treatment of chronic noninfectious intermediate, posterior, and panuveitis (<italic>Retisert</italic> [Bausch &amp; Lomb] and <italic>Ozurdex</italic> [Allergan]), and both are extended-release corticosteroid ocular implants,\" Dr. Kay said.</p>\\n<p>Results of a proof-of-concept phase 2 trial of intravenous gevokizumab in 7 patients with Behçet\\'s uveitis were published in the April issue of the <italic>Annals of Rheumatic Diseases</italic>. In that trial patients were given a single infusion of gevokizumab (0.3 mg/kg), and all patients experienced complete reduction of intraocular inflammation in between 4 and 21 days (median, 14 days). There were no treatment-related adverse events.</p>\\n<p>\"In clinical trials, so far, gevokizumab has been studied in nearly 500 patients. The studies have shown that gevokizumab is well-tolerated, and no drug-related adverse events have been reported,\" Fred Kurland, chief financial officer of Xoma, said in an email interview with <italic>Medscape Medical News</italic>.</p>\\n<p>Although it appears that gevokizumab \"may offer a viable treatment option in Behçet\\'s disease, it remains to be seen if an IL-1 antibody will have an effect in other forms of noninfectious uveitis. A phase 3 clinical trial to evaluate the efficacy of [gevokizumab] in the treatment of noninfectious uveitis is in the recruitment process,\" Dr. Kay said.</p>\\n<p>\"Gevokizumab does offer the possibility of a pathophysiology-driven targeted therapy for IL-1 related uveitis, and if proven safe and effective in a phase 3 trial, this could provide a valuable option in the treatment of noninfectious intermediate uveitis, posterior uveitis, and panuveitis. Even if this drug is only shown to be effective in Behçet\\'s disease, this could provide a useful and targeted treatment for an extremely aggressive condition, perhaps limiting broader and more toxic immunosuppression,\" Dr. Kay said.</p>\\n<p>\\n                        <bold>Other Potential Indications</bold>\\n                    </p>\\n<p>\"As an IL-1β inhibitor, gevokizumab has potential in a very large number of indications that are driven by inflammation, such as noninfectious uveitis.... [W]e are also engaged in 2 proof-of-concept phase 2 trials using gevokizumab in patients with moderate to severe acne vulgaris and in erosive osteoarthritis of the hand, and we will initiate a third proof-of-concept trial in another indication later this year,\" Kurland explained.</p>\\n<p>\"With respect to the [noninfectious uveitis] market specifically, we estimate that there are approximately 150,000 patients in the [United States who have noninfectious uveitis],\" Kurland added, noting they are not discussing the drug\\'s pricing yet.</p>\\n<p>\\n                        <italic>Dr. Kay has disclosed no relevant financial relationships.</italic>\\n                    </p>\\n                </sec>\\n            </sec>\\n        </sec>\\n    </body>\\n    <back>\\n        <ref-list>\\n            <title>References</title>\\n            <list>\\n                <list-item>\\n                    <p />\\n                </list-item>\\n            </list>\\n        </ref-list>\\n        <ack>\\n            <title>Acknowledgements</title>\\n            <p />\\n        </ack>\\n        <fn-group>\\n            <fn fn-type=\"bkmtr_front\">\\n                <p />\\n            </fn>\\n        </fn-group>\\n    </back>\\n</article>'"
      ]
     },
     "execution_count": 8,
     "metadata": {},
     "output_type": "execute_result"
    }
   ],
   "source": [
    "\n",
    "import xml.etree.ElementTree as ET\n",
    "\n",
    "dfs = []\n",
    "for filename in all_files:\n",
    "    tree = ET.parse(filename)\n",
    "    root = tree.getroot()\n",
    "    root=ET.tostring(root, encoding='utf8').decode('utf8')\n",
    "    dfs.append(root)\n",
    "\n",
    "\n",
    "dfs[0]"
   ]
  },
  {
   "cell_type": "code",
   "execution_count": 9,
   "id": "a7f1f935",
   "metadata": {},
   "outputs": [],
   "source": [
    "\n",
    "import bs4 as bs\n",
    "import urllib.request\n",
    "import re"
   ]
  },
  {
   "cell_type": "code",
   "execution_count": 11,
   "id": "e948c9cf",
   "metadata": {},
   "outputs": [],
   "source": [
    "parsed_article = bs.BeautifulSoup(dfs[0],'xml')\n",
    "paragraphs = parsed_article.find_all('p')\n"
   ]
  },
  {
   "cell_type": "code",
   "execution_count": 12,
   "id": "db5b8427",
   "metadata": {},
   "outputs": [
    {
     "name": "stdout",
     "output_type": "stream",
     "text": [
      "WebMD, LLC\n",
      "index\n",
      "Troy Brown is a freelance writer for Medscape.\n",
      "Troy Brown has disclosed no relevant financial relationships.\n",
      "\n",
      "August 29, 2012 — The US Food and Drug Administration (FDA) has granted orphan drug status to gevokizumab (Xoma 052, Xoma Corp), a monoclonal antibody that binds strongly to interleukin 1β (IL-1β), for the treatment of noninfectious intermediate uveitis, posterior uveitis, or panuveitis, or chronic noninfectious anterior uveitis.\n",
      "The Orphan Drug Act of 1983 was passed to encourage companies to develop treatments for rare diseases (diseases that affect fewer than 200,000 people in the United States). Because the market is so small, such treatments can be unprofitable to develop. Companies that develop orphan drugs receive a 50% tax credit for the cost of conducting human clinical trials, 7-year marketing exclusivity, and other incentives.\n",
      "Behçet's disease is a rare multisystem disease that causes blood vessel inflammation throughout the body. Common symptoms are mouth sores, genital sores, and a type of panuveitis known as Behçet's uveitis, an inflammation of the uvea, retina, and vitreous humor that can lead to retinal detachment, vitreous hemorrhage, glaucoma, and blindness.\n",
      "\"A genetic association has been shown between Behçet's disease and the IL-1 gene cluster, and IL-1β has been implicated as a mediator in Behçet's disease pathogenesis,\" Christine Kay, MD, the director of Retinal Clinical Research and the director of the Electrophysiology Service in the Vitreoretinal Division of the Department of Ophthalmology at the University of Florida in Gainesville, told Medscape Medical News. Dr. Kay is a clinical correspondent for the American Academy of Ophthalmology.\n",
      "\"Gevokizumab regulates the activation of IL-1 receptors and can be intravenously or subcutaneously administered,\" Dr. Kay added.\n",
      "Patients with Behçet's uveitis have few treatment options. \"There are currently only 2 drugs FDA-approved for the treatment of chronic noninfectious intermediate, posterior, and panuveitis (Retisert [Bausch & Lomb] and Ozurdex [Allergan]), and both are extended-release corticosteroid ocular implants,\" Dr. Kay said.\n",
      "Results of a proof-of-concept phase 2 trial of intravenous gevokizumab in 7 patients with Behçet's uveitis were published in the April issue of the Annals of Rheumatic Diseases. In that trial patients were given a single infusion of gevokizumab (0.3 mg/kg), and all patients experienced complete reduction of intraocular inflammation in between 4 and 21 days (median, 14 days). There were no treatment-related adverse events.\n",
      "\"In clinical trials, so far, gevokizumab has been studied in nearly 500 patients. The studies have shown that gevokizumab is well-tolerated, and no drug-related adverse events have been reported,\" Fred Kurland, chief financial officer of Xoma, said in an email interview with Medscape Medical News.\n",
      "Although it appears that gevokizumab \"may offer a viable treatment option in Behçet's disease, it remains to be seen if an IL-1 antibody will have an effect in other forms of noninfectious uveitis. A phase 3 clinical trial to evaluate the efficacy of [gevokizumab] in the treatment of noninfectious uveitis is in the recruitment process,\" Dr. Kay said.\n",
      "\"Gevokizumab does offer the possibility of a pathophysiology-driven targeted therapy for IL-1 related uveitis, and if proven safe and effective in a phase 3 trial, this could provide a valuable option in the treatment of noninfectious intermediate uveitis, posterior uveitis, and panuveitis. Even if this drug is only shown to be effective in Behçet's disease, this could provide a useful and targeted treatment for an extremely aggressive condition, perhaps limiting broader and more toxic immunosuppression,\" Dr. Kay said.\n",
      "\n",
      "Other Potential Indications\n",
      "\n",
      "\"As an IL-1β inhibitor, gevokizumab has potential in a very large number of indications that are driven by inflammation, such as noninfectious uveitis.... [W]e are also engaged in 2 proof-of-concept phase 2 trials using gevokizumab in patients with moderate to severe acne vulgaris and in erosive osteoarthritis of the hand, and we will initiate a third proof-of-concept trial in another indication later this year,\" Kurland explained.\n",
      "\"With respect to the [noninfectious uveitis] market specifically, we estimate that there are approximately 150,000 patients in the [United States who have noninfectious uveitis],\" Kurland added, noting they are not discussing the drug's pricing yet.\n",
      "\n",
      "Dr. Kay has disclosed no relevant financial relationships.\n",
      "\n",
      "\n",
      "\n",
      "\n"
     ]
    }
   ],
   "source": [
    "\n",
    "article_text_full = \"\"\n",
    "\n",
    "for p in paragraphs:\n",
    "    article_text_full += p.text\n",
    "    print(p.text)\n"
   ]
  },
  {
   "cell_type": "code",
   "execution_count": 13,
   "id": "6ab11433",
   "metadata": {},
   "outputs": [],
   "source": [
    "def data_prepracessing(each_file):\n",
    "    \n",
    "    parsed_article = bs.BeautifulSoup(each_file,'xml')\n",
    "    \n",
    "    paragraphs = parsed_article.find_all('para')\n",
    "    \n",
    "    \n",
    "    \n",
    "    article_text_full = \"\"\n",
    "\n",
    "    for p in paragraphs:\n",
    "        article_text_full += p.text\n",
    "        print(p.text)\n",
    "    \n",
    "    return article_text_full\n",
    "\n",
    "\n",
    "\n",
    "data=[data_prepracessing(each_file) for each_file in dfs]\n"
   ]
  },
  {
   "cell_type": "code",
   "execution_count": 15,
   "id": "9232c521",
   "metadata": {},
   "outputs": [
    {
     "data": {
      "text/plain": [
       "'WebMD, LLCindexTroy Brown is a freelance writer for Medscape.Troy Brown has disclosed no relevant financial relationships.August 29, 2012 — The US Food and Drug Administration (FDA) has granted orphan drug status to gevokizumab (Xoma 052, Xoma Corp), a monoclonal antibody that binds strongly to interleukin 1β (IL-1β), for the treatment of noninfectious intermediate uveitis, posterior uveitis, or panuveitis, or chronic noninfectious anterior uveitis.The Orphan Drug Act of 1983 was passed to encourage companies to develop treatments for rare diseases (diseases that affect fewer than 200,000 people in the United States). Because the market is so small, such treatments can be unprofitable to develop. Companies that develop orphan drugs receive a 50% tax credit for the cost of conducting human clinical trials, 7-year marketing exclusivity, and other incentives.Behçet\\'s disease is a rare multisystem disease that causes blood vessel inflammation throughout the body. Common symptoms are mouth sores, genital sores, and a type of panuveitis known as Behçet\\'s uveitis, an inflammation of the uvea, retina, and vitreous humor that can lead to retinal detachment, vitreous hemorrhage, glaucoma, and blindness.\"A genetic association has been shown between Behçet\\'s disease and the IL-1 gene cluster, and IL-1β has been implicated as a mediator in Behçet\\'s disease pathogenesis,\" Christine Kay, MD, the director of Retinal Clinical Research and the director of the Electrophysiology Service in the Vitreoretinal Division of the Department of Ophthalmology at the University of Florida in Gainesville, told Medscape Medical News. Dr. Kay is a clinical correspondent for the American Academy of Ophthalmology.\"Gevokizumab regulates the activation of IL-1 receptors and can be intravenously or subcutaneously administered,\" Dr. Kay added.Patients with Behçet\\'s uveitis have few treatment options. \"There are currently only 2 drugs FDA-approved for the treatment of chronic noninfectious intermediate, posterior, and panuveitis (Retisert [Bausch & Lomb] and Ozurdex [Allergan]), and both are extended-release corticosteroid ocular implants,\" Dr. Kay said.Results of a proof-of-concept phase 2 trial of intravenous gevokizumab in 7 patients with Behçet\\'s uveitis were published in the April issue of the Annals of Rheumatic Diseases. In that trial patients were given a single infusion of gevokizumab (0.3 mg/kg), and all patients experienced complete reduction of intraocular inflammation in between 4 and 21 days (median, 14 days). There were no treatment-related adverse events.\"In clinical trials, so far, gevokizumab has been studied in nearly 500 patients. The studies have shown that gevokizumab is well-tolerated, and no drug-related adverse events have been reported,\" Fred Kurland, chief financial officer of Xoma, said in an email interview with Medscape Medical News.Although it appears that gevokizumab \"may offer a viable treatment option in Behçet\\'s disease, it remains to be seen if an IL-1 antibody will have an effect in other forms of noninfectious uveitis. A phase 3 clinical trial to evaluate the efficacy of [gevokizumab] in the treatment of noninfectious uveitis is in the recruitment process,\" Dr. Kay said.\"Gevokizumab does offer the possibility of a pathophysiology-driven targeted therapy for IL-1 related uveitis, and if proven safe and effective in a phase 3 trial, this could provide a valuable option in the treatment of noninfectious intermediate uveitis, posterior uveitis, and panuveitis. Even if this drug is only shown to be effective in Behçet\\'s disease, this could provide a useful and targeted treatment for an extremely aggressive condition, perhaps limiting broader and more toxic immunosuppression,\" Dr. Kay said.\\nOther Potential Indications\\n\"As an IL-1β inhibitor, gevokizumab has potential in a very large number of indications that are driven by inflammation, such as noninfectious uveitis.... [W]e are also engaged in 2 proof-of-concept phase 2 trials using gevokizumab in patients with moderate to severe acne vulgaris and in erosive osteoarthritis of the hand, and we will initiate a third proof-of-concept trial in another indication later this year,\" Kurland explained.\"With respect to the [noninfectious uveitis] market specifically, we estimate that there are approximately 150,000 patients in the [United States who have noninfectious uveitis],\" Kurland added, noting they are not discussing the drug\\'s pricing yet.\\nDr. Kay has disclosed no relevant financial relationships.\\n'"
      ]
     },
     "execution_count": 15,
     "metadata": {},
     "output_type": "execute_result"
    }
   ],
   "source": [
    "article_text_full"
   ]
  },
  {
   "cell_type": "code",
   "execution_count": null,
   "id": "6506bc7c",
   "metadata": {},
   "outputs": [],
   "source": []
  }
 ],
 "metadata": {
  "kernelspec": {
   "display_name": "Python 3 (ipykernel)",
   "language": "python",
   "name": "python3"
  },
  "language_info": {
   "codemirror_mode": {
    "name": "ipython",
    "version": 3
   },
   "file_extension": ".py",
   "mimetype": "text/x-python",
   "name": "python",
   "nbconvert_exporter": "python",
   "pygments_lexer": "ipython3",
   "version": "3.9.7"
  }
 },
 "nbformat": 4,
 "nbformat_minor": 5
}
