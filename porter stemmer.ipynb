{
 "cells": [
  {
   "cell_type": "markdown",
   "id": "1a3a8fc3",
   "metadata": {},
   "source": [
    "# PorterStemmer"
   ]
  },
  {
   "cell_type": "markdown",
   "id": "11c586a3",
   "metadata": {},
   "source": [
    "it is a package of Stemming"
   ]
  },
  {
   "cell_type": "markdown",
   "id": "1e1c09e0",
   "metadata": {},
   "source": [
    "Stemming is the process of producing morphological variants of a root/base word.\n",
    "Stemming programs are commonly referred to as stemming algorithms or stemmers."
   ]
  },
  {
   "cell_type": "code",
   "execution_count": 1,
   "id": "96169f9c",
   "metadata": {},
   "outputs": [
    {
     "data": {
      "text/plain": [
       "'have'"
      ]
     },
     "execution_count": 1,
     "metadata": {},
     "output_type": "execute_result"
    }
   ],
   "source": [
    "from nltk.stem import PorterStemmer\n",
    "ps=PorterStemmer()\n",
    "\n",
    "ps.stem(\"having\")\n"
   ]
  },
  {
   "cell_type": "code",
   "execution_count": 14,
   "id": "9c48ff9e",
   "metadata": {},
   "outputs": [
    {
     "name": "stdout",
     "output_type": "stream",
     "text": [
      "Word is :- affection, Root word is:- affect\n",
      "\n",
      "Word is :- giving, Root word is:- give\n",
      "\n",
      "Word is :- having, Root word is:- have\n",
      "\n",
      "Word is :- programming, Root word is:- program\n",
      "\n",
      "Word is :- works, Root word is:- work\n",
      "\n",
      "Word is :- loving, Root word is:- love\n",
      "\n"
     ]
    }
   ],
   "source": [
    "lst=['affection','giving','having','programming','works','loving']\n",
    "for i in range(len(lst)):\n",
    "    words= ps.stem(lst[i])\n",
    "    print(f\"Word is :- {lst[i]}, Root word is:- {words}\\n\")\n"
   ]
  },
  {
   "cell_type": "code",
   "execution_count": 16,
   "id": "14d0a022",
   "metadata": {},
   "outputs": [
    {
     "name": "stdout",
     "output_type": "stream",
     "text": [
      "Enter Word:\taffects\n",
      " Given Word is :- affects, Root word is:- affect\n",
      "\n"
     ]
    }
   ],
   "source": [
    "word= input(\"Enter Word:\\t\")\n",
    "wo= ps.stem(word)\n",
    "print(f\" Given Word is :- {word}, Root word is:- {wo}\\n\")"
   ]
  },
  {
   "cell_type": "code",
   "execution_count": null,
   "id": "0e79740d",
   "metadata": {},
   "outputs": [],
   "source": []
  }
 ],
 "metadata": {
  "kernelspec": {
   "display_name": "Python 3 (ipykernel)",
   "language": "python",
   "name": "python3"
  },
  "language_info": {
   "codemirror_mode": {
    "name": "ipython",
    "version": 3
   },
   "file_extension": ".py",
   "mimetype": "text/x-python",
   "name": "python",
   "nbconvert_exporter": "python",
   "pygments_lexer": "ipython3",
   "version": "3.9.7"
  }
 },
 "nbformat": 4,
 "nbformat_minor": 5
}
