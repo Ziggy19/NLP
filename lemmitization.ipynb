{
 "cells": [
  {
   "cell_type": "markdown",
   "id": "2d1f357a",
   "metadata": {},
   "source": [
    "# Lemmatization &Stop words"
   ]
  },
  {
   "cell_type": "code",
   "execution_count": 75,
   "id": "dbc286d9",
   "metadata": {},
   "outputs": [],
   "source": [
    "import nltk\n",
    "from nltk.stem import WordNetLemmatizer \n",
    "from nltk.corpus import stopwords\n",
    "paragraph=  \"\"\"Speech on APJ Abdul Kalam: Dr. APJ Abdul Kalam is not a new name.\n",
    "            He served India as the 11th president. He was born on 15 October 1931 in Rameswaram, Tamil Nadu.\n",
    "            Because of his works in the field of science and especially missile and rockets,\n",
    "            he is also called the Missile Man of India. He was a famous scientist. \n",
    "            He worked with organizations like DRDO (Defense Research and Development Organization)\n",
    "            and ISRO (Indian Space Research Organization).\n",
    "            He was a real gem of India. He proved that with determination and hard work anything can be achieved.\n",
    "            He is one of the many leaders in India who has plenty of admirers. \n",
    "            He served the nation for only one term and left us for always on 27 July 2015 due to cardiac arrest.\n",
    "            \"\"\"\n",
    "word= nltk.word_tokenize(paragraph)\n",
    "sentence=nltk.sent_tokenize(paragraph)\n",
    "lem= WordNetLemmatizer()\n",
    "for i in range(len(sentence)):\n",
    "    words=nltk.word_tokenize(paragraph[i])\n",
    "    words=[stemmer.stem(word) for word in words if word not in set(stopwords.words('english'))]\n",
    "    sentence[i]=' '.join(words)"
   ]
  },
  {
   "cell_type": "code",
   "execution_count": 102,
   "id": "d9c2b7c6",
   "metadata": {},
   "outputs": [],
   "source": [
    "# output\n",
    "# Speech APJ Abdul Kalam : Dr. APJ Abdul Kalam new name .\n",
    "# He served India 11th president .\n",
    "# He born 15 October 1931 Rameswaram , Tamil Nadu .\n",
    "# Because work field science especially missile rocket , also called Missile Man India .\n",
    "# He famous scientist .\n",
    "# He worked organization like DRDO ( Defense Research Development Organization ) ISRO ( Indian Space Research Organization ) .\n",
    "# He real gem India .\n",
    "# He proved determination hard work anything achieved .\n",
    "# He one many leader India plenty admirer .\n",
    "# He served nation one term left u always 27 July 2015 due cardiac arrest ."
   ]
  },
  {
   "cell_type": "code",
   "execution_count": 103,
   "id": "8ff17b8b",
   "metadata": {},
   "outputs": [
    {
     "data": {
      "text/plain": [
       "'child'"
      ]
     },
     "execution_count": 103,
     "metadata": {},
     "output_type": "execute_result"
    }
   ],
   "source": [
    "import nltk\n",
    "from nltk.stem import WordNetLemmatizer \n",
    "lemmatizer = WordNetLemmatizer()\n",
    "lemmatizer.lemmatize(\"children\")"
   ]
  },
  {
   "cell_type": "code",
   "execution_count": null,
   "id": "e03c57f6",
   "metadata": {},
   "outputs": [],
   "source": []
  },
  {
   "cell_type": "code",
   "execution_count": null,
   "id": "81c170a9",
   "metadata": {},
   "outputs": [],
   "source": []
  }
 ],
 "metadata": {
  "kernelspec": {
   "display_name": "Python 3 (ipykernel)",
   "language": "python",
   "name": "python3"
  },
  "language_info": {
   "codemirror_mode": {
    "name": "ipython",
    "version": 3
   },
   "file_extension": ".py",
   "mimetype": "text/x-python",
   "name": "python",
   "nbconvert_exporter": "python",
   "pygments_lexer": "ipython3",
   "version": "3.9.7"
  }
 },
 "nbformat": 4,
 "nbformat_minor": 5
}
