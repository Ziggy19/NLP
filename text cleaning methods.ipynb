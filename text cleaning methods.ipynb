{
 "cells": [
  {
   "cell_type": "markdown",
   "id": "2e41ce3e",
   "metadata": {},
   "source": [
    "# Text Cleaning Methods"
   ]
  },
  {
   "cell_type": "markdown",
   "id": "e3e220bb",
   "metadata": {},
   "source": [
    "# Methods\n",
    "1. Lowecasing the data\n",
    "1. Removing Puncuatations\n",
    "1. Removing Numbers\n",
    "1. Removing extra space\n",
    "1. Replacing the repetitions of punctations\n",
    "1. Removing Emojis\n",
    "1. Removing emoticons\n",
    "1. Removing Contractions"
   ]
  },
  {
   "cell_type": "code",
   "execution_count": 46,
   "id": "239e438f",
   "metadata": {},
   "outputs": [
    {
     "name": "stdout",
     "output_type": "stream",
     "text": [
      "I had such high hopes for this dress 15 size or (my usual size) to work for me.\n"
     ]
    }
   ],
   "source": [
    "from nltk.stem import WordNetLemmatizer\n",
    "import pandas as pd\n",
    "import nltk\n",
    "\n",
    "text = 'I had such high hopes for this dress 15 size or (my usual size) to work for me.'\n",
    "print(text)"
   ]
  },
  {
   "cell_type": "markdown",
   "id": "a6b1cef2",
   "metadata": {},
   "source": [
    "# Lower Casing the Data\n"
   ]
  },
  {
   "cell_type": "code",
   "execution_count": 47,
   "id": "eeeb57cb",
   "metadata": {},
   "outputs": [
    {
     "data": {
      "text/plain": [
       "'i had such high hopes for this dress 15 size or (my usual size) to work for me.'"
      ]
     },
     "execution_count": 47,
     "metadata": {},
     "output_type": "execute_result"
    }
   ],
   "source": [
    "text=text.lower()\n",
    "text"
   ]
  },
  {
   "cell_type": "markdown",
   "id": "ebdae018",
   "metadata": {},
   "source": [
    "# Removing Punctuations\n"
   ]
  },
  {
   "cell_type": "code",
   "execution_count": 48,
   "id": "01862c4c",
   "metadata": {},
   "outputs": [],
   "source": [
    "# The second most common text processing technique is removing punctuations from the textual data.\n",
    "# The punctuation removal process will help to treat each text equally. \n",
    "# For example, the word data and data! are treated equally after the process of removal of punctuations.\n",
    "#  As string.punctuation in python contains these symbols !\"#$%&\\'()*+,-./:;?@[\\\\]^_{|}~`\n",
    "    "
   ]
  },
  {
   "cell_type": "code",
   "execution_count": 49,
   "id": "e038a826",
   "metadata": {},
   "outputs": [
    {
     "ename": "NameError",
     "evalue": "name 'LemTokens' is not defined",
     "output_type": "error",
     "traceback": [
      "\u001b[1;31m---------------------------------------------------------------------------\u001b[0m",
      "\u001b[1;31mNameError\u001b[0m                                 Traceback (most recent call last)",
      "\u001b[1;32m~\\AppData\\Local\\Temp/ipykernel_18996/3039351570.py\u001b[0m in \u001b[0;36m<module>\u001b[1;34m\u001b[0m\n\u001b[0;32m      6\u001b[0m \u001b[1;32mdef\u001b[0m \u001b[0mpun_norm\u001b[0m\u001b[1;33m(\u001b[0m\u001b[0mtext\u001b[0m\u001b[1;33m)\u001b[0m\u001b[1;33m:\u001b[0m\u001b[1;33m\u001b[0m\u001b[1;33m\u001b[0m\u001b[0m\n\u001b[0;32m      7\u001b[0m     \u001b[1;32mreturn\u001b[0m \u001b[0mLemTokens\u001b[0m\u001b[1;33m(\u001b[0m\u001b[0mnltk\u001b[0m\u001b[1;33m.\u001b[0m\u001b[0mword_tokenize\u001b[0m\u001b[1;33m(\u001b[0m\u001b[0mtext\u001b[0m\u001b[1;33m.\u001b[0m\u001b[0mlower\u001b[0m\u001b[1;33m(\u001b[0m\u001b[1;33m)\u001b[0m\u001b[1;33m.\u001b[0m\u001b[0mtranslate\u001b[0m\u001b[1;33m(\u001b[0m\u001b[0mPUNCT_TO_REMOVE\u001b[0m\u001b[1;33m)\u001b[0m\u001b[1;33m)\u001b[0m\u001b[1;33m)\u001b[0m\u001b[1;33m\u001b[0m\u001b[1;33m\u001b[0m\u001b[0m\n\u001b[1;32m----> 8\u001b[1;33m \u001b[0mpun_norm\u001b[0m\u001b[1;33m(\u001b[0m\u001b[0mtext\u001b[0m\u001b[1;33m)\u001b[0m\u001b[1;33m\u001b[0m\u001b[1;33m\u001b[0m\u001b[0m\n\u001b[0m",
      "\u001b[1;32m~\\AppData\\Local\\Temp/ipykernel_18996/3039351570.py\u001b[0m in \u001b[0;36mpun_norm\u001b[1;34m(text)\u001b[0m\n\u001b[0;32m      5\u001b[0m \u001b[1;33m\u001b[0m\u001b[0m\n\u001b[0;32m      6\u001b[0m \u001b[1;32mdef\u001b[0m \u001b[0mpun_norm\u001b[0m\u001b[1;33m(\u001b[0m\u001b[0mtext\u001b[0m\u001b[1;33m)\u001b[0m\u001b[1;33m:\u001b[0m\u001b[1;33m\u001b[0m\u001b[1;33m\u001b[0m\u001b[0m\n\u001b[1;32m----> 7\u001b[1;33m     \u001b[1;32mreturn\u001b[0m \u001b[0mLemTokens\u001b[0m\u001b[1;33m(\u001b[0m\u001b[0mnltk\u001b[0m\u001b[1;33m.\u001b[0m\u001b[0mword_tokenize\u001b[0m\u001b[1;33m(\u001b[0m\u001b[0mtext\u001b[0m\u001b[1;33m.\u001b[0m\u001b[0mlower\u001b[0m\u001b[1;33m(\u001b[0m\u001b[1;33m)\u001b[0m\u001b[1;33m.\u001b[0m\u001b[0mtranslate\u001b[0m\u001b[1;33m(\u001b[0m\u001b[0mPUNCT_TO_REMOVE\u001b[0m\u001b[1;33m)\u001b[0m\u001b[1;33m)\u001b[0m\u001b[1;33m)\u001b[0m\u001b[1;33m\u001b[0m\u001b[1;33m\u001b[0m\u001b[0m\n\u001b[0m\u001b[0;32m      8\u001b[0m \u001b[0mpun_norm\u001b[0m\u001b[1;33m(\u001b[0m\u001b[0mtext\u001b[0m\u001b[1;33m)\u001b[0m\u001b[1;33m\u001b[0m\u001b[1;33m\u001b[0m\u001b[0m\n",
      "\u001b[1;31mNameError\u001b[0m: name 'LemTokens' is not defined"
     ]
    }
   ],
   "source": [
    "import string\n",
    "lemmer=nltk.stem.WordNetLemmatizer\n",
    "\n",
    "PUNCT_TO_REMOVE = dict((ord(puct),None) for puct in string.punctuation)\n",
    "\n",
    "def pun_norm(text):\n",
    "    return LemTokens(nltk.word_tokenize(text.lower().translate(PUNCT_TO_REMOVE)))\n",
    "pun_norm(text)"
   ]
  },
  {
   "cell_type": "code",
   "execution_count": 50,
   "id": "400ca279",
   "metadata": {},
   "outputs": [
    {
     "data": {
      "text/plain": [
       "'I had such high hopes! for this dress size or (my usual size) to work for me.'"
      ]
     },
     "execution_count": 50,
     "metadata": {},
     "output_type": "execute_result"
    }
   ],
   "source": [
    "text = 'I had such high hopes! for this dress size or (my usual size) to work for me.'\n",
    "PUNCT_TO_REMOVE = string.punctuation\n",
    "ans = text.translate((PUNCT_TO_REMOVE))\n",
    "ans"
   ]
  },
  {
   "cell_type": "markdown",
   "id": "51c89f42",
   "metadata": {},
   "source": [
    "# Removing Numbers"
   ]
  },
  {
   "cell_type": "code",
   "execution_count": 33,
   "id": "dd9c95f5",
   "metadata": {},
   "outputs": [
    {
     "data": {
      "text/plain": [
       "'I had such high hopes! for this dress size or (my usual size) to work for me.'"
      ]
     },
     "execution_count": 33,
     "metadata": {},
     "output_type": "execute_result"
    }
   ],
   "source": [
    "ans = ''.join([i for i in text if not i.isdigit()])\n",
    "ans"
   ]
  },
  {
   "cell_type": "code",
   "execution_count": 34,
   "id": "a0c2c85d",
   "metadata": {},
   "outputs": [
    {
     "data": {
      "text/plain": [
       "'I had such high hopes! for this dress size or (my usual size) to work for me.'"
      ]
     },
     "execution_count": 34,
     "metadata": {},
     "output_type": "execute_result"
    }
   ],
   "source": [
    "ans = \" \".join(text.split())\n",
    "ans"
   ]
  },
  {
   "cell_type": "code",
   "execution_count": null,
   "id": "31f24afc",
   "metadata": {},
   "outputs": [],
   "source": []
  }
 ],
 "metadata": {
  "kernelspec": {
   "display_name": "Python 3 (ipykernel)",
   "language": "python",
   "name": "python3"
  },
  "language_info": {
   "codemirror_mode": {
    "name": "ipython",
    "version": 3
   },
   "file_extension": ".py",
   "mimetype": "text/x-python",
   "name": "python",
   "nbconvert_exporter": "python",
   "pygments_lexer": "ipython3",
   "version": "3.9.7"
  }
 },
 "nbformat": 4,
 "nbformat_minor": 5
}
