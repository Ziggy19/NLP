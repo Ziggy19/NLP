{
 "cells": [
  {
   "cell_type": "code",
   "execution_count": 3,
   "id": "5089428b",
   "metadata": {},
   "outputs": [
    {
     "data": {
      "text/plain": [
       "'The film Forrest Gump was released in year 1994'"
      ]
     },
     "execution_count": 3,
     "metadata": {},
     "output_type": "execute_result"
    }
   ],
   "source": [
    "#Substituting text in a String\n",
    "import re\n",
    "text = \"The film Pulp Fiction was released in year 1994\"\n",
    "result = re.sub(r\"Pulp Fiction\", \"Forrest Gump\", text)\n",
    "result"
   ]
  },
  {
   "cell_type": "code",
   "execution_count": 10,
   "id": "bb1a4fbb",
   "metadata": {},
   "outputs": [
    {
     "name": "stdout",
     "output_type": "stream",
     "text": [
      "*he film *ulp *iction was released in year 1994\n"
     ]
    }
   ],
   "source": [
    "text = \"The film Pulp Fiction was released in year 1994\"\n",
    "result = re.sub(r\"[A-Z]\", \"*\", text)\n",
    "print(result)"
   ]
  },
  {
   "cell_type": "code",
   "execution_count": 11,
   "id": "caf269fa",
   "metadata": {},
   "outputs": [
    {
     "name": "stdout",
     "output_type": "stream",
     "text": [
      "T** **** P*** F****** *** ******** ** **** 1994\n"
     ]
    }
   ],
   "source": [
    "text = \"The film Pulp Fiction was released in year 1994\"\n",
    "result = re.sub(r\"[a-z]\", \"*\", text)\n",
    "print(result)"
   ]
  },
  {
   "cell_type": "code",
   "execution_count": null,
   "id": "aa63e896",
   "metadata": {},
   "outputs": [],
   "source": []
  }
 ],
 "metadata": {
  "kernelspec": {
   "display_name": "Python 3 (ipykernel)",
   "language": "python",
   "name": "python3"
  },
  "language_info": {
   "codemirror_mode": {
    "name": "ipython",
    "version": 3
   },
   "file_extension": ".py",
   "mimetype": "text/x-python",
   "name": "python",
   "nbconvert_exporter": "python",
   "pygments_lexer": "ipython3",
   "version": "3.9.7"
  }
 },
 "nbformat": 4,
 "nbformat_minor": 5
}
